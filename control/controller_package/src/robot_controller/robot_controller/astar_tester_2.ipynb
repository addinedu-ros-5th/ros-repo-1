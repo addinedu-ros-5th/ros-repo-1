{
 "cells": [
  {
   "cell_type": "code",
   "execution_count": 1,
   "metadata": {},
   "outputs": [],
   "source": [
    "from A_star import AStarPlanner"
   ]
  },
  {
   "cell_type": "code",
   "execution_count": 2,
   "metadata": {},
   "outputs": [
    {
     "name": "stdout",
     "output_type": "stream",
     "text": [
      "Loading map start!\n",
      "Calc Obstacle...\n",
      "min_x: 0\n",
      "min_y: 0\n",
      "max_x: 60\n",
      "max_y: 42\n",
      "x_width: 60\n",
      "y_width: 42\n",
      "Map loading done!\n",
      "0 0 1 0.5\n",
      "10.08 21.4 30.08 31.4\n",
      "Find goal\n",
      "[-0.0040000000000000036, 0.996] [0.48, 0.48] [0, 1] [1, 0]\n"
     ]
    }
   ],
   "source": [
    "a_star = AStarPlanner(resolution=1, rr=0.5, padding=1)\n",
    "rx, ry, tpx, tpy, tvex_x, tvec_y = a_star.planning(0, 0, 1, 0.5)"
   ]
  },
  {
   "cell_type": "code",
   "execution_count": 9,
   "metadata": {},
   "outputs": [
    {
     "name": "stdout",
     "output_type": "stream",
     "text": [
      "30 31\n",
      "29 31\n",
      "28 31\n",
      "27 31\n",
      "26 31\n",
      "25 31\n",
      "24 31\n",
      "23 31\n",
      "22 31\n",
      "21 31\n",
      "20 31\n",
      "19 31\n",
      "18 31\n",
      "17 31\n",
      "16 31\n",
      "15 31\n",
      "14 31\n",
      "13 31\n",
      "12 31\n",
      "11 31\n",
      "10 31\n",
      "10 30\n",
      "10 29\n",
      "10 28\n",
      "10 27\n",
      "10 26\n",
      "10 25\n",
      "10 24\n",
      "10 23\n",
      "10 22\n",
      "10 21\n"
     ]
    }
   ],
   "source": [
    "for x, y in zip(rx, ry):\n",
    "    print(x, y)"
   ]
  },
  {
   "cell_type": "code",
   "execution_count": 12,
   "metadata": {},
   "outputs": [
    {
     "data": {
      "text/plain": [
       "([0, 1], [1, 0])"
      ]
     },
     "execution_count": 12,
     "metadata": {},
     "output_type": "execute_result"
    }
   ],
   "source": [
    "tvex_x, tvec_y"
   ]
  }
 ],
 "metadata": {
  "kernelspec": {
   "display_name": "Python 3",
   "language": "python",
   "name": "python3"
  },
  "language_info": {
   "codemirror_mode": {
    "name": "ipython",
    "version": 3
   },
   "file_extension": ".py",
   "mimetype": "text/x-python",
   "name": "python",
   "nbconvert_exporter": "python",
   "pygments_lexer": "ipython3",
   "version": "3.10.12"
  }
 },
 "nbformat": 4,
 "nbformat_minor": 2
}
